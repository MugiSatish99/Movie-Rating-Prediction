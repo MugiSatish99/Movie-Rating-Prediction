{
 "cells": [
  {
   "cell_type": "code",
   "execution_count": 249,
   "id": "0faecba5-57af-4863-8d22-0d8f720ccd3d",
   "metadata": {},
   "outputs": [],
   "source": [
    "#Library Imports\n",
    "import pandas as pd\n",
    "import numpy as np\n",
    "import matplotlib.pyplot as plt\n",
    "import seaborn as sns\n",
    "import re\n",
    "\n",
    "\n",
    "import warnings\n",
    "warnings.filterwarnings('ignore')"
   ]
  },
  {
   "cell_type": "code",
   "execution_count": 250,
   "id": "55629c43-10c1-4a3d-a139-a8b1e4df1f22",
   "metadata": {},
   "outputs": [],
   "source": [
    "#encountered with unicode error so performing exception handling using some encoders I'm aware with\n",
    "try:\n",
    "    df = pd.read_csv(\"Movie dataset.csv\", encoding='utf-8')\n",
    "except UnicodeDecodeError:\n",
    "    try:\n",
    "        df = pd.read_csv(\"Movie dataset.csv\", encoding='utf-8-sig')\n",
    "    except UnicodeDecodeError:\n",
    "        try:\n",
    "            df = pd.read_csv(\"Movie dataset.csv\", encoding='latin1')\n",
    "        except UnicodeDecodeError:\n",
    "            df = pd.read_csv(\"Movie dataset.csv\", encoding='cp1252')"
   ]
  },
  {
   "cell_type": "markdown",
   "id": "eba1c655-67d1-40d9-a681-d8d72b645a0f",
   "metadata": {},
   "source": [
    "### Let's explore our data to get understanding of different types of aspects"
   ]
  },
  {
   "cell_type": "code",
   "execution_count": 251,
   "id": "d7e17928-8475-4399-87a7-73097dff8332",
   "metadata": {},
   "outputs": [
    {
     "data": {
      "text/html": [
       "<div>\n",
       "<style scoped>\n",
       "    .dataframe tbody tr th:only-of-type {\n",
       "        vertical-align: middle;\n",
       "    }\n",
       "\n",
       "    .dataframe tbody tr th {\n",
       "        vertical-align: top;\n",
       "    }\n",
       "\n",
       "    .dataframe thead th {\n",
       "        text-align: right;\n",
       "    }\n",
       "</style>\n",
       "<table border=\"1\" class=\"dataframe\">\n",
       "  <thead>\n",
       "    <tr style=\"text-align: right;\">\n",
       "      <th></th>\n",
       "      <th>Name</th>\n",
       "      <th>Year</th>\n",
       "      <th>Duration</th>\n",
       "      <th>Genre</th>\n",
       "      <th>Rating</th>\n",
       "      <th>Votes</th>\n",
       "      <th>Director</th>\n",
       "      <th>Actor 1</th>\n",
       "      <th>Actor 2</th>\n",
       "      <th>Actor 3</th>\n",
       "    </tr>\n",
       "  </thead>\n",
       "  <tbody>\n",
       "    <tr>\n",
       "      <th>0</th>\n",
       "      <td></td>\n",
       "      <td>NaN</td>\n",
       "      <td>NaN</td>\n",
       "      <td>Drama</td>\n",
       "      <td>NaN</td>\n",
       "      <td>NaN</td>\n",
       "      <td>J.S. Randhawa</td>\n",
       "      <td>Manmauji</td>\n",
       "      <td>Birbal</td>\n",
       "      <td>Rajendra Bhatia</td>\n",
       "    </tr>\n",
       "    <tr>\n",
       "      <th>1</th>\n",
       "      <td>#Gadhvi (He thought he was Gandhi)</td>\n",
       "      <td>(2019)</td>\n",
       "      <td>109 min</td>\n",
       "      <td>Drama</td>\n",
       "      <td>7.0</td>\n",
       "      <td>8</td>\n",
       "      <td>Gaurav Bakshi</td>\n",
       "      <td>Rasika Dugal</td>\n",
       "      <td>Vivek Ghamande</td>\n",
       "      <td>Arvind Jangid</td>\n",
       "    </tr>\n",
       "    <tr>\n",
       "      <th>2</th>\n",
       "      <td>#Homecoming</td>\n",
       "      <td>(2021)</td>\n",
       "      <td>90 min</td>\n",
       "      <td>Drama, Musical</td>\n",
       "      <td>NaN</td>\n",
       "      <td>NaN</td>\n",
       "      <td>Soumyajit Majumdar</td>\n",
       "      <td>Sayani Gupta</td>\n",
       "      <td>Plabita Borthakur</td>\n",
       "      <td>Roy Angana</td>\n",
       "    </tr>\n",
       "    <tr>\n",
       "      <th>3</th>\n",
       "      <td>#Yaaram</td>\n",
       "      <td>(2019)</td>\n",
       "      <td>110 min</td>\n",
       "      <td>Comedy, Romance</td>\n",
       "      <td>4.4</td>\n",
       "      <td>35</td>\n",
       "      <td>Ovais Khan</td>\n",
       "      <td>Prateik</td>\n",
       "      <td>Ishita Raj</td>\n",
       "      <td>Siddhant Kapoor</td>\n",
       "    </tr>\n",
       "    <tr>\n",
       "      <th>4</th>\n",
       "      <td>...And Once Again</td>\n",
       "      <td>(2010)</td>\n",
       "      <td>105 min</td>\n",
       "      <td>Drama</td>\n",
       "      <td>NaN</td>\n",
       "      <td>NaN</td>\n",
       "      <td>Amol Palekar</td>\n",
       "      <td>Rajat Kapoor</td>\n",
       "      <td>Rituparna Sengupta</td>\n",
       "      <td>Antara Mali</td>\n",
       "    </tr>\n",
       "  </tbody>\n",
       "</table>\n",
       "</div>"
      ],
      "text/plain": [
       "                                 Name    Year Duration            Genre  \\\n",
       "0                                         NaN      NaN            Drama   \n",
       "1  #Gadhvi (He thought he was Gandhi)  (2019)  109 min            Drama   \n",
       "2                         #Homecoming  (2021)   90 min   Drama, Musical   \n",
       "3                             #Yaaram  (2019)  110 min  Comedy, Romance   \n",
       "4                   ...And Once Again  (2010)  105 min            Drama   \n",
       "\n",
       "   Rating Votes            Director       Actor 1             Actor 2  \\\n",
       "0     NaN   NaN       J.S. Randhawa      Manmauji              Birbal   \n",
       "1     7.0     8       Gaurav Bakshi  Rasika Dugal      Vivek Ghamande   \n",
       "2     NaN   NaN  Soumyajit Majumdar  Sayani Gupta   Plabita Borthakur   \n",
       "3     4.4    35          Ovais Khan       Prateik          Ishita Raj   \n",
       "4     NaN   NaN        Amol Palekar  Rajat Kapoor  Rituparna Sengupta   \n",
       "\n",
       "           Actor 3  \n",
       "0  Rajendra Bhatia  \n",
       "1    Arvind Jangid  \n",
       "2       Roy Angana  \n",
       "3  Siddhant Kapoor  \n",
       "4      Antara Mali  "
      ]
     },
     "execution_count": 251,
     "metadata": {},
     "output_type": "execute_result"
    }
   ],
   "source": [
    "df.head()"
   ]
  },
  {
   "cell_type": "code",
   "execution_count": 252,
   "id": "d6e3148d-b437-49c5-8216-5fe15f267fda",
   "metadata": {},
   "outputs": [
    {
     "data": {
      "text/plain": [
       "Name           0\n",
       "Year         528\n",
       "Duration    8269\n",
       "Genre       1877\n",
       "Rating      7590\n",
       "Votes       7589\n",
       "Director     525\n",
       "Actor 1     1617\n",
       "Actor 2     2384\n",
       "Actor 3     3144\n",
       "dtype: int64"
      ]
     },
     "execution_count": 252,
     "metadata": {},
     "output_type": "execute_result"
    }
   ],
   "source": [
    "df.isnull().sum() # checking Null values."
   ]
  },
  {
   "cell_type": "code",
   "execution_count": 253,
   "id": "221816ee-fd47-49d8-9d74-b7798aa0b9c4",
   "metadata": {},
   "outputs": [
    {
     "data": {
      "text/plain": [
       "(15509, 10)"
      ]
     },
     "execution_count": 253,
     "metadata": {},
     "output_type": "execute_result"
    }
   ],
   "source": [
    "df.shape # shape of our data"
   ]
  },
  {
   "cell_type": "code",
   "execution_count": 254,
   "id": "2e77afb1-2a25-4a44-b854-2dbbaa6e10ed",
   "metadata": {},
   "outputs": [
    {
     "name": "stdout",
     "output_type": "stream",
     "text": [
      "<class 'pandas.core.frame.DataFrame'>\n",
      "RangeIndex: 15509 entries, 0 to 15508\n",
      "Data columns (total 10 columns):\n",
      " #   Column    Non-Null Count  Dtype  \n",
      "---  ------    --------------  -----  \n",
      " 0   Name      15509 non-null  object \n",
      " 1   Year      14981 non-null  object \n",
      " 2   Duration  7240 non-null   object \n",
      " 3   Genre     13632 non-null  object \n",
      " 4   Rating    7919 non-null   float64\n",
      " 5   Votes     7920 non-null   object \n",
      " 6   Director  14984 non-null  object \n",
      " 7   Actor 1   13892 non-null  object \n",
      " 8   Actor 2   13125 non-null  object \n",
      " 9   Actor 3   12365 non-null  object \n",
      "dtypes: float64(1), object(9)\n",
      "memory usage: 1.2+ MB\n"
     ]
    }
   ],
   "source": [
    "df.info() "
   ]
  },
  {
   "cell_type": "code",
   "execution_count": 255,
   "id": "6d314239-c809-4c30-b9ff-7f686e0dd2c0",
   "metadata": {},
   "outputs": [
    {
     "data": {
      "text/plain": [
       "6"
      ]
     },
     "execution_count": 255,
     "metadata": {},
     "output_type": "execute_result"
    }
   ],
   "source": [
    "df.duplicated().sum()"
   ]
  },
  {
   "cell_type": "code",
   "execution_count": 256,
   "id": "a1dc6c82-170f-4b85-9df4-0fe4167fbbcc",
   "metadata": {},
   "outputs": [
    {
     "data": {
      "text/plain": [
       "array([ nan,  7. ,  4.4,  4.7,  7.4,  5.6,  4. ,  6.2,  5.9,  6.5,  5.7,\n",
       "        6.3,  7.2,  6.6,  7.3,  7.1,  6.9,  3.5,  5. ,  4.5,  6.4,  4.1,\n",
       "        4.8,  8.1,  5.5,  6.8,  6.1,  7.7,  5.1,  7.6,  3.1,  3.3,  7.8,\n",
       "        8.4,  5.2,  4.3,  5.8,  4.6,  7.5,  6.7,  3.6,  3.9,  5.4,  4.2,\n",
       "        5.3,  3.4,  3. ,  8. ,  6. ,  3.8,  7.9,  2.7,  4.9,  2.4,  3.7,\n",
       "        3.2,  2.5,  2.8,  2.6,  2.9,  8.2,  8.7,  8.3,  9.3,  8.8,  2.1,\n",
       "        2.3,  8.5,  8.6,  9. ,  9.6,  1.7,  9.1,  2. ,  1.4,  8.9,  1.9,\n",
       "        9.4,  9.7,  1.8,  9.2,  1.6, 10. ,  2.2,  1.1])"
      ]
     },
     "execution_count": 256,
     "metadata": {},
     "output_type": "execute_result"
    }
   ],
   "source": [
    "df['Rating'].unique()"
   ]
  },
  {
   "cell_type": "code",
   "execution_count": 257,
   "id": "69ac5e25-7cf3-4725-926c-c6d9fe09a9c9",
   "metadata": {},
   "outputs": [
    {
     "data": {
      "text/plain": [
       "7588"
      ]
     },
     "execution_count": 257,
     "metadata": {},
     "output_type": "execute_result"
    }
   ],
   "source": [
    "(df['Rating'].isnull().sum()) & (df['Votes'].isnull().sum())"
   ]
  },
  {
   "cell_type": "code",
   "execution_count": 258,
   "id": "ce876559-6779-4d71-a774-63259c8439ec",
   "metadata": {},
   "outputs": [],
   "source": [
    "df.dropna(inplace=True) # After some exploring I decided to drop null values. It seems filling is insignificant to our task"
   ]
  },
  {
   "cell_type": "code",
   "execution_count": 259,
   "id": "deb7c3ce-8f70-4865-943d-e170c1760909",
   "metadata": {},
   "outputs": [
    {
     "data": {
      "text/plain": [
       "Name        0\n",
       "Year        0\n",
       "Duration    0\n",
       "Genre       0\n",
       "Rating      0\n",
       "Votes       0\n",
       "Director    0\n",
       "Actor 1     0\n",
       "Actor 2     0\n",
       "Actor 3     0\n",
       "dtype: int64"
      ]
     },
     "execution_count": 259,
     "metadata": {},
     "output_type": "execute_result"
    }
   ],
   "source": [
    "df.isnull().sum()#All Null values removed"
   ]
  },
  {
   "cell_type": "markdown",
   "id": "8e968302-2e13-416a-ab20-1253a137ce42",
   "metadata": {},
   "source": [
    "### Let's Clean our data. It looks like we have unwanted characters in text columns"
   ]
  },
  {
   "cell_type": "code",
   "execution_count": 261,
   "id": "bcebf850-7df8-497e-940d-b294133ed3f9",
   "metadata": {},
   "outputs": [
    {
     "data": {
      "text/plain": [
       "1     #Gadhvi (He thought he was Gandhi)\n",
       "3                                #Yaaram\n",
       "5                   ...Aur Pyaar Ho Gaya\n",
       "6                              ...Yahaan\n",
       "8                     ?: A Question Mark\n",
       "9                               @Andheri\n",
       "10             1:1.6 An Ode to Lost Love\n",
       "11                  1:13:7 Ek Tera Saath\n",
       "12                              100 Days\n",
       "13                             100% Love\n",
       "15                           102 Not Out\n",
       "18                             10ml LOVE\n",
       "21                            12 O'Clock\n",
       "22                            12 O'Clock\n",
       "25                                 127 B\n",
       "28           13B: Fear Has a New Address\n",
       "30                        15 Park Avenue\n",
       "32                           15th August\n",
       "33                           16 December\n",
       "34                                 18.11\n",
       "Name: Name, dtype: object"
      ]
     },
     "execution_count": 261,
     "metadata": {},
     "output_type": "execute_result"
    }
   ],
   "source": [
    "df['Name'].head(20) "
   ]
  },
  {
   "cell_type": "code",
   "execution_count": 262,
   "id": "9b3b8e23-ca08-4006-855d-96e0782de6f4",
   "metadata": {},
   "outputs": [],
   "source": [
    "def clean(text): #function to clean special characters\n",
    "    pattern = r'[^a-zA-z0-9\\s]'\n",
    "    text = re.sub(pattern,'',text)\n",
    "    return text"
   ]
  },
  {
   "cell_type": "code",
   "execution_count": 263,
   "id": "2a03cdf7-affc-49b1-910f-a23b4816ebbf",
   "metadata": {},
   "outputs": [],
   "source": [
    "df['Name'] = df['Name'].apply(clean)# using .apply method to apply our previously created function."
   ]
  },
  {
   "cell_type": "code",
   "execution_count": 264,
   "id": "bc885c31-553b-4d54-a428-5316b9f43d72",
   "metadata": {},
   "outputs": [],
   "source": [
    "df['Year'] = df['Year'].apply(clean).astype(int) # I decided to convert year to int after cleaning. so type casting Year column"
   ]
  },
  {
   "cell_type": "code",
   "execution_count": 265,
   "id": "ddcf92e9-735b-4e10-8a90-9f024e4da93f",
   "metadata": {},
   "outputs": [],
   "source": [
    "# for col in df.columns: \n",
    "  # df[col] = df[col].apply(clean)----- if all columns contains special characters we can use this"
   ]
  },
  {
   "cell_type": "code",
   "execution_count": 266,
   "id": "b017293d-78ba-496d-9519-b5a3d6610fac",
   "metadata": {},
   "outputs": [],
   "source": [
    "def remove_min(text):\n",
    "    return text.replace(' min', '')\n",
    "#I felt like this column hosts another type of unwanted guest. so I respectfully sent our guest out."
   ]
  },
  {
   "cell_type": "code",
   "execution_count": 267,
   "id": "b1bda730-bf97-4601-a03c-e04163fd96d9",
   "metadata": {},
   "outputs": [],
   "source": [
    "df['Duration'] = df['Duration'].apply(remove_min).astype(int)#after claeaning I converted object to int."
   ]
  },
  {
   "cell_type": "code",
   "execution_count": 268,
   "id": "8d06a49d-64cc-40b3-aa61-ff0189d49634",
   "metadata": {},
   "outputs": [],
   "source": [
    "def Comma(text):\n",
    "    Pattern = r','\n",
    "    return re.sub(Pattern,'',text)"
   ]
  },
  {
   "cell_type": "code",
   "execution_count": 269,
   "id": "7aa6f8ff-f142-4a90-99ff-58e55721bd6c",
   "metadata": {},
   "outputs": [],
   "source": [
    "df['Votes'] = df['Votes'].apply(Comma).astype(int)#removed (,) from numbers and converted it to integer"
   ]
  },
  {
   "cell_type": "code",
   "execution_count": 270,
   "id": "e8cc5331-9c05-4698-9b99-91677fc02439",
   "metadata": {},
   "outputs": [
    {
     "data": {
      "text/plain": [
       "Index(['Name', 'Year', 'Duration', 'Genre', 'Rating', 'Votes', 'Director',\n",
       "       'Actor 1', 'Actor 2', 'Actor 3'],\n",
       "      dtype='object')"
      ]
     },
     "execution_count": 270,
     "metadata": {},
     "output_type": "execute_result"
    }
   ],
   "source": [
    "df.columns"
   ]
  },
  {
   "cell_type": "code",
   "execution_count": 271,
   "id": "245fb269-ce9b-460c-8493-acff3a0d6833",
   "metadata": {},
   "outputs": [
    {
     "name": "stdout",
     "output_type": "stream",
     "text": [
      "<class 'pandas.core.frame.DataFrame'>\n",
      "Index: 5659 entries, 1 to 15508\n",
      "Data columns (total 10 columns):\n",
      " #   Column    Non-Null Count  Dtype  \n",
      "---  ------    --------------  -----  \n",
      " 0   Name      5659 non-null   object \n",
      " 1   Year      5659 non-null   int32  \n",
      " 2   Duration  5659 non-null   int32  \n",
      " 3   Genre     5659 non-null   object \n",
      " 4   Rating    5659 non-null   float64\n",
      " 5   Votes     5659 non-null   int32  \n",
      " 6   Director  5659 non-null   object \n",
      " 7   Actor 1   5659 non-null   object \n",
      " 8   Actor 2   5659 non-null   object \n",
      " 9   Actor 3   5659 non-null   object \n",
      "dtypes: float64(1), int32(3), object(6)\n",
      "memory usage: 420.0+ KB\n"
     ]
    }
   ],
   "source": [
    "df.info() # now you can see that some Dtypes changed to int from object"
   ]
  },
  {
   "cell_type": "code",
   "execution_count": 282,
   "id": "11d05284-de98-44f7-96f7-46f683afbd87",
   "metadata": {},
   "outputs": [],
   "source": [
    "#some more imports for ML task.\n",
    "\n",
    "from sklearn.model_selection import train_test_split\n",
    "from sklearn.linear_model import LinearRegression\n",
    "from sklearn.metrics import r2_score, mean_squared_error"
   ]
  },
  {
   "cell_type": "code",
   "execution_count": 275,
   "id": "70274e91-9d55-41e2-8aa6-4e3e84748bb4",
   "metadata": {},
   "outputs": [],
   "source": [
    "df = pd.get_dummies(df, columns=['Genre', 'Director', 'Actor 1', 'Actor 2', 'Actor 3'])\n",
    "#converting Categorical columns to dummy variables.\n",
    "X = df.drop(columns=['Rating', 'Name'])  # Features\n",
    "y = df['Rating']  # Target variable"
   ]
  },
  {
   "cell_type": "code",
   "execution_count": 280,
   "id": "182c30b0-98da-4740-bdb3-4ff3711aebbf",
   "metadata": {},
   "outputs": [],
   "source": [
    "# Split the data into training and testing sets\n",
    "X_train, X_test, y_train, y_test = train_test_split(X, y, test_size=0.2, random_state=101)"
   ]
  },
  {
   "cell_type": "code",
   "execution_count": 281,
   "id": "8548c57d-8400-474e-b0df-8e02db83df00",
   "metadata": {},
   "outputs": [
    {
     "data": {
      "text/html": [
       "<style>#sk-container-id-6 {color: black;}#sk-container-id-6 pre{padding: 0;}#sk-container-id-6 div.sk-toggleable {background-color: white;}#sk-container-id-6 label.sk-toggleable__label {cursor: pointer;display: block;width: 100%;margin-bottom: 0;padding: 0.3em;box-sizing: border-box;text-align: center;}#sk-container-id-6 label.sk-toggleable__label-arrow:before {content: \"▸\";float: left;margin-right: 0.25em;color: #696969;}#sk-container-id-6 label.sk-toggleable__label-arrow:hover:before {color: black;}#sk-container-id-6 div.sk-estimator:hover label.sk-toggleable__label-arrow:before {color: black;}#sk-container-id-6 div.sk-toggleable__content {max-height: 0;max-width: 0;overflow: hidden;text-align: left;background-color: #f0f8ff;}#sk-container-id-6 div.sk-toggleable__content pre {margin: 0.2em;color: black;border-radius: 0.25em;background-color: #f0f8ff;}#sk-container-id-6 input.sk-toggleable__control:checked~div.sk-toggleable__content {max-height: 200px;max-width: 100%;overflow: auto;}#sk-container-id-6 input.sk-toggleable__control:checked~label.sk-toggleable__label-arrow:before {content: \"▾\";}#sk-container-id-6 div.sk-estimator input.sk-toggleable__control:checked~label.sk-toggleable__label {background-color: #d4ebff;}#sk-container-id-6 div.sk-label input.sk-toggleable__control:checked~label.sk-toggleable__label {background-color: #d4ebff;}#sk-container-id-6 input.sk-hidden--visually {border: 0;clip: rect(1px 1px 1px 1px);clip: rect(1px, 1px, 1px, 1px);height: 1px;margin: -1px;overflow: hidden;padding: 0;position: absolute;width: 1px;}#sk-container-id-6 div.sk-estimator {font-family: monospace;background-color: #f0f8ff;border: 1px dotted black;border-radius: 0.25em;box-sizing: border-box;margin-bottom: 0.5em;}#sk-container-id-6 div.sk-estimator:hover {background-color: #d4ebff;}#sk-container-id-6 div.sk-parallel-item::after {content: \"\";width: 100%;border-bottom: 1px solid gray;flex-grow: 1;}#sk-container-id-6 div.sk-label:hover label.sk-toggleable__label {background-color: #d4ebff;}#sk-container-id-6 div.sk-serial::before {content: \"\";position: absolute;border-left: 1px solid gray;box-sizing: border-box;top: 0;bottom: 0;left: 50%;z-index: 0;}#sk-container-id-6 div.sk-serial {display: flex;flex-direction: column;align-items: center;background-color: white;padding-right: 0.2em;padding-left: 0.2em;position: relative;}#sk-container-id-6 div.sk-item {position: relative;z-index: 1;}#sk-container-id-6 div.sk-parallel {display: flex;align-items: stretch;justify-content: center;background-color: white;position: relative;}#sk-container-id-6 div.sk-item::before, #sk-container-id-6 div.sk-parallel-item::before {content: \"\";position: absolute;border-left: 1px solid gray;box-sizing: border-box;top: 0;bottom: 0;left: 50%;z-index: -1;}#sk-container-id-6 div.sk-parallel-item {display: flex;flex-direction: column;z-index: 1;position: relative;background-color: white;}#sk-container-id-6 div.sk-parallel-item:first-child::after {align-self: flex-end;width: 50%;}#sk-container-id-6 div.sk-parallel-item:last-child::after {align-self: flex-start;width: 50%;}#sk-container-id-6 div.sk-parallel-item:only-child::after {width: 0;}#sk-container-id-6 div.sk-dashed-wrapped {border: 1px dashed gray;margin: 0 0.4em 0.5em 0.4em;box-sizing: border-box;padding-bottom: 0.4em;background-color: white;}#sk-container-id-6 div.sk-label label {font-family: monospace;font-weight: bold;display: inline-block;line-height: 1.2em;}#sk-container-id-6 div.sk-label-container {text-align: center;}#sk-container-id-6 div.sk-container {/* jupyter's `normalize.less` sets `[hidden] { display: none; }` but bootstrap.min.css set `[hidden] { display: none !important; }` so we also need the `!important` here to be able to override the default hidden behavior on the sphinx rendered scikit-learn.org. See: https://github.com/scikit-learn/scikit-learn/issues/21755 */display: inline-block !important;position: relative;}#sk-container-id-6 div.sk-text-repr-fallback {display: none;}</style><div id=\"sk-container-id-6\" class=\"sk-top-container\"><div class=\"sk-text-repr-fallback\"><pre>LinearRegression()</pre><b>In a Jupyter environment, please rerun this cell to show the HTML representation or trust the notebook. <br />On GitHub, the HTML representation is unable to render, please try loading this page with nbviewer.org.</b></div><div class=\"sk-container\" hidden><div class=\"sk-item\"><div class=\"sk-estimator sk-toggleable\"><input class=\"sk-toggleable__control sk-hidden--visually\" id=\"sk-estimator-id-42\" type=\"checkbox\" checked><label for=\"sk-estimator-id-42\" class=\"sk-toggleable__label sk-toggleable__label-arrow\">LinearRegression</label><div class=\"sk-toggleable__content\"><pre>LinearRegression()</pre></div></div></div></div></div>"
      ],
      "text/plain": [
       "LinearRegression()"
      ]
     },
     "execution_count": 281,
     "metadata": {},
     "output_type": "execute_result"
    }
   ],
   "source": [
    "# Initialize and train the linear regression model\n",
    "model = LinearRegression()\n",
    "model.fit(X_train, y_train)"
   ]
  },
  {
   "cell_type": "code",
   "execution_count": 283,
   "id": "9fb51acc-2199-4706-8a27-08ff468ce518",
   "metadata": {},
   "outputs": [],
   "source": [
    "# Predict ratings on the testing set\n",
    "y_pred = model.predict(X_test)"
   ]
  },
  {
   "cell_type": "markdown",
   "id": "444362a9-dd55-4d99-bcca-f6cbc8d552c5",
   "metadata": {},
   "source": [
    "### After all these struggles Our model Performing Poorly. Let's apply some regularization methods to make it perform good"
   ]
  },
  {
   "cell_type": "code",
   "execution_count": 285,
   "id": "8c9be672-ac57-41f4-847f-e339f4a23381",
   "metadata": {},
   "outputs": [
    {
     "name": "stdout",
     "output_type": "stream",
     "text": [
      "Mean Squared Error: 8.516158912203164\n",
      "R2_score: -3.463002525478829\n",
      "RMSE: 2.918245862192417\n"
     ]
    }
   ],
   "source": [
    "# Calculate mean squared error\n",
    "mse = mean_squared_error(y_test, y_pred)\n",
    "print(\"Mean Squared Error:\", mse)\n",
    "\n",
    "r2 = r2_score(y_test,y_pred)\n",
    "print(\"R2_score:\", r2)\n",
    "\n",
    "print('RMSE:',np.sqrt(mse))"
   ]
  },
  {
   "cell_type": "markdown",
   "id": "3e2c7aa5-f685-4747-928f-bc360f141a83",
   "metadata": {},
   "source": [
    "### let's apply L1-Lasso,L2-Ridge regularizarions and see what happens."
   ]
  },
  {
   "cell_type": "code",
   "execution_count": 288,
   "id": "c10762b6-470a-4037-9cdd-d70a1b8f0cbb",
   "metadata": {},
   "outputs": [
    {
     "name": "stdout",
     "output_type": "stream",
     "text": [
      "Mean Squared Error (Ridge): 1.6190892815090994\n",
      "R2_score: 0.15149545389572594\n",
      "RMSE: 1.2724343918289458\n"
     ]
    }
   ],
   "source": [
    "from sklearn.linear_model import Ridge, Lasso\n",
    "\n",
    "ridge_model = Ridge(alpha=0.5)  # You can adjust the value of alpha\n",
    "ridge_model.fit(X_train, y_train)\n",
    "\n",
    "# Predict ratings on the testing set\n",
    "y_pred_ridge = ridge_model.predict(X_test)\n",
    "\n",
    "# Calculate MSE,R2_score,RMSE for Ridge regression\n",
    "mse_ridge = mean_squared_error(y_test, y_pred_ridge)\n",
    "print(\"Mean Squared Error (Ridge):\", mse_ridge)\n",
    "\n",
    "r2 = r2_score(y_test,y_pred_ridge)\n",
    "print(\"R2_score:\", r2)\n",
    "\n",
    "print('RMSE:',np.sqrt(mse_ridge))"
   ]
  },
  {
   "cell_type": "markdown",
   "id": "f19e5619-fb8a-4f3e-96d6-0c19729057fc",
   "metadata": {},
   "source": [
    "### Hurray! Solved it model seems to be working better than befor."
   ]
  },
  {
   "cell_type": "code",
   "execution_count": 289,
   "id": "6d38ff8a-b577-4eb9-bcd2-0556b5cb24e3",
   "metadata": {},
   "outputs": [
    {
     "name": "stdout",
     "output_type": "stream",
     "text": [
      "Mean Squared Error (Lasso): 1.7474439790853988\n",
      "R2_score: 0.08422952504848025\n",
      "RMSE: 1.3219092174144935\n"
     ]
    }
   ],
   "source": [
    "# Initialize and train the Lasso regression model (L1 regularization)\n",
    "lasso_model = Lasso(alpha=0.5)  # You can adjust the value of alpha\n",
    "lasso_model.fit(X_train, y_train)\n",
    "\n",
    "# Predict ratings on the testing set\n",
    "y_pred_lasso = lasso_model.predict(X_test)\n",
    "\n",
    "# Calculate MSE,R2_score,RMSE for Lasso regression\n",
    "mse_lasso = mean_squared_error(y_test, y_pred_lasso)\n",
    "print(\"Mean Squared Error (Lasso):\", mse_lasso)\n",
    "\n",
    "r2 = r2_score(y_test,y_pred_lasso)\n",
    "print(\"R2_score:\", r2)\n",
    "\n",
    "print('RMSE:',np.sqrt(mse_lasso))"
   ]
  },
  {
   "cell_type": "code",
   "execution_count": null,
   "id": "a66afd32-1786-4c27-a84a-bc06b4fde40b",
   "metadata": {},
   "outputs": [],
   "source": []
  }
 ],
 "metadata": {
  "kernelspec": {
   "display_name": "Python 3 (ipykernel)",
   "language": "python",
   "name": "python3"
  },
  "language_info": {
   "codemirror_mode": {
    "name": "ipython",
    "version": 3
   },
   "file_extension": ".py",
   "mimetype": "text/x-python",
   "name": "python",
   "nbconvert_exporter": "python",
   "pygments_lexer": "ipython3",
   "version": "3.11.5"
  }
 },
 "nbformat": 4,
 "nbformat_minor": 5
}
